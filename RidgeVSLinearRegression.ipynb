{
  "nbformat": 4,
  "nbformat_minor": 0,
  "metadata": {
    "colab": {
      "provenance": [],
      "collapsed_sections": []
    },
    "kernelspec": {
      "name": "python3",
      "display_name": "Python 3"
    },
    "language_info": {
      "name": "python"
    }
  },
  "cells": [
    {
      "cell_type": "code",
      "execution_count": null,
      "metadata": {
        "colab": {
          "base_uri": "https://localhost:8080/"
        },
        "id": "EIRijWk4c08e",
        "outputId": "fe54640e-ce91-4aa6-f10e-4736cb44c9ad"
      },
      "outputs": [
        {
          "output_type": "stream",
          "name": "stdout",
          "text": [
            ".. _boston_dataset:\n",
            "\n",
            "Boston house prices dataset\n",
            "---------------------------\n",
            "\n",
            "**Data Set Characteristics:**  \n",
            "\n",
            "    :Number of Instances: 506 \n",
            "\n",
            "    :Number of Attributes: 13 numeric/categorical predictive. Median Value (attribute 14) is usually the target.\n",
            "\n",
            "    :Attribute Information (in order):\n",
            "        - CRIM     per capita crime rate by town\n",
            "        - ZN       proportion of residential land zoned for lots over 25,000 sq.ft.\n",
            "        - INDUS    proportion of non-retail business acres per town\n",
            "        - CHAS     Charles River dummy variable (= 1 if tract bounds river; 0 otherwise)\n",
            "        - NOX      nitric oxides concentration (parts per 10 million)\n",
            "        - RM       average number of rooms per dwelling\n",
            "        - AGE      proportion of owner-occupied units built prior to 1940\n",
            "        - DIS      weighted distances to five Boston employment centres\n",
            "        - RAD      index of accessibility to radial highways\n",
            "        - TAX      full-value property-tax rate per $10,000\n",
            "        - PTRATIO  pupil-teacher ratio by town\n",
            "        - B        1000(Bk - 0.63)^2 where Bk is the proportion of black people by town\n",
            "        - LSTAT    % lower status of the population\n",
            "        - MEDV     Median value of owner-occupied homes in $1000's\n",
            "\n",
            "    :Missing Attribute Values: None\n",
            "\n",
            "    :Creator: Harrison, D. and Rubinfeld, D.L.\n",
            "\n",
            "This is a copy of UCI ML housing dataset.\n",
            "https://archive.ics.uci.edu/ml/machine-learning-databases/housing/\n",
            "\n",
            "\n",
            "This dataset was taken from the StatLib library which is maintained at Carnegie Mellon University.\n",
            "\n",
            "The Boston house-price data of Harrison, D. and Rubinfeld, D.L. 'Hedonic\n",
            "prices and the demand for clean air', J. Environ. Economics & Management,\n",
            "vol.5, 81-102, 1978.   Used in Belsley, Kuh & Welsch, 'Regression diagnostics\n",
            "...', Wiley, 1980.   N.B. Various transformations are used in the table on\n",
            "pages 244-261 of the latter.\n",
            "\n",
            "The Boston house-price data has been used in many machine learning papers that address regression\n",
            "problems.   \n",
            "     \n",
            ".. topic:: References\n",
            "\n",
            "   - Belsley, Kuh & Welsch, 'Regression diagnostics: Identifying Influential Data and Sources of Collinearity', Wiley, 1980. 244-261.\n",
            "   - Quinlan,R. (1993). Combining Instance-Based and Model-Based Learning. In Proceedings on the Tenth International Conference of Machine Learning, 236-243, University of Massachusetts, Amherst. Morgan Kaufmann.\n",
            "\n"
          ]
        },
        {
          "output_type": "stream",
          "name": "stderr",
          "text": [
            "/usr/local/lib/python3.7/dist-packages/sklearn/utils/deprecation.py:87: FutureWarning: Function load_boston is deprecated; `load_boston` is deprecated in 1.0 and will be removed in 1.2.\n",
            "\n",
            "    The Boston housing prices dataset has an ethical problem. You can refer to\n",
            "    the documentation of this function for further details.\n",
            "\n",
            "    The scikit-learn maintainers therefore strongly discourage the use of this\n",
            "    dataset unless the purpose of the code is to study and educate about\n",
            "    ethical issues in data science and machine learning.\n",
            "\n",
            "    In this special case, you can fetch the dataset from the original\n",
            "    source::\n",
            "\n",
            "        import pandas as pd\n",
            "        import numpy as np\n",
            "\n",
            "\n",
            "        data_url = \"http://lib.stat.cmu.edu/datasets/boston\"\n",
            "        raw_df = pd.read_csv(data_url, sep=\"\\s+\", skiprows=22, header=None)\n",
            "        data = np.hstack([raw_df.values[::2, :], raw_df.values[1::2, :2]])\n",
            "        target = raw_df.values[1::2, 2]\n",
            "\n",
            "    Alternative datasets include the California housing dataset (i.e.\n",
            "    :func:`~sklearn.datasets.fetch_california_housing`) and the Ames housing\n",
            "    dataset. You can load the datasets as follows::\n",
            "\n",
            "        from sklearn.datasets import fetch_california_housing\n",
            "        housing = fetch_california_housing()\n",
            "\n",
            "    for the California housing dataset and::\n",
            "\n",
            "        from sklearn.datasets import fetch_openml\n",
            "        housing = fetch_openml(name=\"house_prices\", as_frame=True)\n",
            "\n",
            "    for the Ames housing dataset.\n",
            "    \n",
            "  warnings.warn(msg, category=FutureWarning)\n"
          ]
        }
      ],
      "source": [
        "from sklearn.datasets import load_boston\n",
        "from sklearn.model_selection import train_test_split\n",
        "from sklearn.metrics import mean_squared_error\n",
        "from sklearn.linear_model import LinearRegression\n",
        "from sklearn.preprocessing import StandardScaler\n",
        "from sklearn.preprocessing import PolynomialFeatures\n",
        "from sklearn.linear_model import Ridge\n",
        "import numpy as np\n",
        "df = load_boston()\n",
        "print(df.DESCR)"
      ]
    },
    {
      "cell_type": "code",
      "source": [
        "X = StandardScaler().fit_transform(df.data)\n",
        "y = df.target"
      ],
      "metadata": {
        "id": "2M_3h0i1c9yZ"
      },
      "execution_count": null,
      "outputs": []
    },
    {
      "cell_type": "code",
      "source": [
        "train_errorsLR = list()\n",
        "test_errorsLR = list()\n",
        "count = 30\n",
        "gapsLR = list()\n",
        "print(\"Initial linear regression (30 splits):\")\n",
        "for i in range(count):\n",
        "  lr = LinearRegression()\n",
        "  X_train, X_test, y_train, y_test = train_test_split(X,y,test_size = 0.4)\n",
        "  lr.fit(X_train,y_train)\n",
        "  y_pred_test = lr.predict(X_test)\n",
        "  y_pred_train = lr.predict(X_train)\n",
        "  train_errorsLR.append(mean_squared_error(y_train, y_pred_train))\n",
        "  test_errorsLR.append(mean_squared_error(y_test,y_pred_test))\n",
        "  gapsLR.append(abs(mean_squared_error(y_train,y_pred_train)-mean_squared_error(y_test,y_pred_test)))\n",
        "print(\"-----------------------------------------------------------------------\")\n",
        "print(\"Mean of training errors: \", sum(train_errorsLR)/len(train_errorsLR))\n",
        "print(\"Mean of testing errors:\",sum(test_errorsLR)/len(test_errorsLR))\n",
        "print(\"Mean gap between errors:\",sum(gapsLR)/len(gapsLR))\n",
        "print(\"SD of training errors:\",np.std(train_errorsLR))\n",
        "print(\"SD of testing errors:\",np.std(test_errorsLR))\n",
        "print(\"SD of gaps:\",np.std(gapsLR))"
      ],
      "metadata": {
        "colab": {
          "base_uri": "https://localhost:8080/"
        },
        "id": "Qu8k10ioduzn",
        "outputId": "31fa087f-0351-47ed-ff37-6674c948e0f0"
      },
      "execution_count": null,
      "outputs": [
        {
          "output_type": "stream",
          "name": "stdout",
          "text": [
            "Initial linear regression (30 splits):\n",
            "-----------------------------------------------------------------------\n",
            "Mean of training errors:  21.330220360497723\n",
            "Mean of testing errors: 24.12941622152018\n",
            "Mean gap between errors: 5.306003390913756\n",
            "SD of training errors: 2.547859795555138\n",
            "SD of testing errors: 3.793496354670881\n",
            "SD of gaps: 4.4183875409592295\n"
          ]
        }
      ]
    },
    {
      "cell_type": "code",
      "source": [
        "poly = PolynomialFeatures(2)\n",
        "dataX = poly.fit_transform(X)\n",
        "train_errorsPF = list()\n",
        "test_errorsPF = list()\n",
        "repeat = 30\n",
        "gapsPF = list()\n",
        "print(\"Linear regression with features expanded (30 splits):\")\n",
        "for i in range(repeat):\n",
        "  lr = LinearRegression()\n",
        "  X_train, X_test, y_train, y_test = train_test_split(dataX,y,test_size = 0.4)\n",
        "  lr.fit(X_train,y_train)\n",
        "  y_pred_test = lr.predict(X_test)\n",
        "  y_pred_train = lr.predict(X_train)\n",
        "  train_errorsPF.append(mean_squared_error(y_train, y_pred_train))\n",
        "  test_errorsPF.append(mean_squared_error(y_test,y_pred_test))\n",
        "  gapsPF.append(abs(mean_squared_error(y_train,y_pred_train)-mean_squared_error(y_test,y_pred_test)))\n",
        "print(\"-----------------------------------------------------------------------\")\n",
        "print(\"Mean of training errors: \", sum(train_errorsPF)/len(train_errorsPF))\n",
        "print(\"Mean of testing errors:\",sum(test_errorsPF)/len(test_errorsPF))\n",
        "print(\"Mean gap between errors:\",sum(gapsPF)/len(gapsPF))\n",
        "print(\"SD of training errors:\",np.std(train_errorsPF))\n",
        "print(\"SD of testing errors:\",np.std(test_errorsPF))\n",
        "print(\"SD of gaps:\",np.std(gapsPF))"
      ],
      "metadata": {
        "colab": {
          "base_uri": "https://localhost:8080/"
        },
        "id": "Clwy8W3Jz_Jp",
        "outputId": "fb9f00ef-1c01-4ca2-e879-ed39d625a3a3"
      },
      "execution_count": null,
      "outputs": [
        {
          "output_type": "stream",
          "name": "stdout",
          "text": [
            "Linear regression with features expanded (30 splits):\n",
            "-----------------------------------------------------------------------\n",
            "Mean of training errors:  7.712550946449085\n",
            "Mean of testing errors: 29.80094049623979\n",
            "Mean gap between errors: 22.088389549790705\n",
            "SD of training errors: 9.243653048351\n",
            "SD of testing errors: 22.903353546913714\n",
            "SD of gaps: 14.851294955391502\n"
          ]
        }
      ]
    },
    {
      "cell_type": "markdown",
      "source": [
        "The training error has decreased, while the testing error has increased on average after expanding the dataset using polynomial features. SD of gaps between errors is increased."
      ],
      "metadata": {
        "id": "o6jYpFfck7DT"
      }
    },
    {
      "cell_type": "code",
      "source": [
        "X2 = StandardScaler().fit_transform(df.data)\n",
        "y2 = df.target\n",
        "train_errorsRR = list()\n",
        "test_errorsRR = list()\n",
        "alphas = [0.001,0.01,0.1,1,10,100]\n",
        "for i in range(len(alphas)):\n",
        "  l1 = []\n",
        "  l2 = []\n",
        "  train_errorsRR.append(l1)\n",
        "  test_errorsRR.append(l2)\n",
        "gapsRR = list()\n",
        "print(\"Initial Ridge regression (30 splits):\")\n",
        "count = 30\n",
        "for j in range(count):\n",
        "  X_train2, X_test2, y_train2, y_test2 = train_test_split(X2,y2,test_size = 0.4)\n",
        "  for a in range(len(alphas)):\n",
        "    clf = Ridge(alpha = alphas[a])\n",
        "    clf.fit(X_train2,y_train2)\n",
        "    y_pred_test2= clf.predict(X_test2)\n",
        "    y_pred_train2 = clf.predict(X_train2)\n",
        "    train_err = mean_squared_error(y_train2, y_pred_train2)\n",
        "    test_err = mean_squared_error(y_test2,y_pred_test2)\n",
        "    gap_err = abs(mean_squared_error(y_train2,y_pred_train2)-mean_squared_error(y_test2,y_pred_test2))\n",
        "    train_errorsRR[a].append(train_err)\n",
        "    test_errorsRR[a].append(test_err)\n",
        "    gapsRR.append(gap_err)\n",
        "for a in range(len(alphas)):  \n",
        "  print(\"Alpha\",alphas[a],\": test error\",sum(test_errorsRR[a])/len(test_errorsRR[a]))"
      ],
      "metadata": {
        "colab": {
          "base_uri": "https://localhost:8080/"
        },
        "id": "c-si4lBmsvDX",
        "outputId": "b10bd0b1-c6b8-44e9-8725-6355501d29c4"
      },
      "execution_count": null,
      "outputs": [
        {
          "output_type": "stream",
          "name": "stdout",
          "text": [
            "Initial Ridge regression (30 splits):\n",
            "Alpha 0.001 : test error 24.595695139525482\n",
            "Alpha 0.01 : test error 24.59525730561485\n",
            "Alpha 0.1 : test error 24.590931382054876\n",
            "Alpha 1 : test error 24.552530998837266\n",
            "Alpha 10 : test error 24.439588159076507\n",
            "Alpha 100 : test error 26.552300916275062\n"
          ]
        }
      ]
    },
    {
      "cell_type": "code",
      "source": [
        "poly2 = PolynomialFeatures(2)\n",
        "dataX2 = poly2.fit_transform(X2)\n",
        "train_errorsRRP = list()\n",
        "test_errorsRRP = list()\n",
        "alphas = [0.001,0.01,0.1,1,10,100]\n",
        "gapsRRP = list()\n",
        "print(\"Ridge regression with Polynomial Features (30 splits):\")\n",
        "for j in range(count):\n",
        "  X_train2, X_test2, y_train2, y_test2 = train_test_split(dataX2,y2,test_size = 0.4)\n",
        "  for a in range(len(alphas)):\n",
        "    clf = Ridge(alpha = alphas[a])\n",
        "    clf.fit(X_train2,y_train2)\n",
        "    y_pred_test2= clf.predict(X_test2)\n",
        "    y_pred_train2 = clf.predict(X_train2)\n",
        "    train_err = mean_squared_error(y_train2, y_pred_train2)\n",
        "    test_err = mean_squared_error(y_test2,y_pred_test2)\n",
        "    gap_err = abs(mean_squared_error(y_train2,y_pred_train2)-mean_squared_error(y_test2,y_pred_test2))\n",
        "    train_errorsRR[a].append(train_err)\n",
        "    test_errorsRR[a].append(test_err)\n",
        "    gapsRR.append(gap_err)\n",
        "for a in range(len(alphas)):  \n",
        "  print(\"Alpha\",alphas[a],\": test error\",sum(test_errorsRR[a])/len(test_errorsRR[a]))"
      ],
      "metadata": {
        "colab": {
          "base_uri": "https://localhost:8080/"
        },
        "id": "kCPcrpER_YFG",
        "outputId": "2b6e3bdf-6b44-4a50-e9d6-80f08166d1ac"
      },
      "execution_count": null,
      "outputs": [
        {
          "output_type": "stream",
          "name": "stdout",
          "text": [
            "Ridge regression with Polynomial Features (30 splits):\n",
            "Alpha 0.001 : test error 22.598376975405802\n",
            "Alpha 0.01 : test error 22.35324924356553\n",
            "Alpha 0.1 : test error 21.61149203405591\n",
            "Alpha 1 : test error 19.892949094113202\n",
            "Alpha 10 : test error 18.51960169162573\n",
            "Alpha 100 : test error 20.98493970255312\n"
          ]
        }
      ]
    },
    {
      "cell_type": "markdown",
      "source": [
        "The alpha = 10 is the best!"
      ],
      "metadata": {
        "id": "U4qUEbdJyDSm"
      }
    }
  ]
}