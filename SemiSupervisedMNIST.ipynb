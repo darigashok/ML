{
  "cells": [
    {
      "cell_type": "code",
      "execution_count": null,
      "metadata": {
        "id": "uGb5E0_bEUOM"
      },
      "outputs": [],
      "source": [
        "from sklearn.datasets import load_digits\n",
        "from sklearn.cluster import KMeans\n",
        "import numpy as np\n",
        "import matplotlib.pyplot as plt"
      ]
    },
    {
      "cell_type": "code",
      "execution_count": null,
      "metadata": {
        "id": "yBrFaE7WEUOP"
      },
      "outputs": [],
      "source": [
        "digits = load_digits()\n",
        "X = digits.data\n",
        "y = digits.target\n",
        "N = len(X)"
      ]
    },
    {
      "cell_type": "code",
      "execution_count": null,
      "metadata": {
        "id": "nWC8hJJOEUOQ"
      },
      "outputs": [],
      "source": [
        "from sklearn.manifold import TSNE\n",
        "\n",
        "tsne = TSNE(n_components=3, learning_rate='auto', init='random')\n",
        "X = tsne.fit_transform(X)"
      ]
    },
    {
      "cell_type": "code",
      "execution_count": null,
      "metadata": {
        "id": "AanKA8D5EUOQ"
      },
      "outputs": [],
      "source": [
        "k = 50\n",
        "kmeans = KMeans(n_clusters=k)\n",
        "z = kmeans.fit_predict(X)"
      ]
    },
    {
      "cell_type": "code",
      "execution_count": null,
      "metadata": {
        "id": "YO200LK7EUOQ"
      },
      "outputs": [],
      "source": [
        "def dist(a,b):\n",
        "    return np.linalg.norm(a-b)\n",
        "\n",
        "def display(i):\n",
        "    plt.gray()\n",
        "    plt.matshow(X[int(i)].reshape(8,8))\n",
        "\n",
        "\n",
        "# For each of the cluster centers find the image that it closest to it and obtain its label\n",
        "\n",
        "closest = [0]*k\n",
        "dmin = np.ones(N)*np.Inf\n",
        "\n",
        "for i in range(N):\n",
        "    j = z[i]\n",
        "    cc = kmeans.cluster_centers_[j]\n",
        "    if dist(X[i], cc) < dmin[j]:\n",
        "        closest[j] = i\n",
        "    \n",
        "X1 = [X[closest[j]] for j in range(k)]  # select k data points to obtain labels for\n",
        "y1 = [y[closest[j]] for j in range(k)]  # reveal labels of k selected data points"
      ]
    },
    {
      "cell_type": "code",
      "execution_count": null,
      "metadata": {
        "colab": {
          "base_uri": "https://localhost:8080/"
        },
        "id": "P3eS8hJJEUOR",
        "outputId": "b99886f7-f1bc-4bc5-fab4-cfa7c11a68ad"
      },
      "outputs": [
        {
          "output_type": "stream",
          "name": "stdout",
          "text": [
            "Accuracy:  0.9037284362826934\n"
          ]
        }
      ],
      "source": [
        "from sklearn.neighbors import KNeighborsClassifier\n",
        "knn = KNeighborsClassifier(n_neighbors=1).fit(X1, y1)\n",
        "y_pred = knn.predict(X)\n",
        "print(\"Accuracy: \", np.mean(y_pred == y))  "
      ]
    }
  ],
  "metadata": {
    "colab": {
      "provenance": []
    },
    "kernelspec": {
      "display_name": "Python 3",
      "language": "python",
      "name": "python3"
    },
    "language_info": {
      "codemirror_mode": {
        "name": "ipython",
        "version": 3
      },
      "file_extension": ".py",
      "mimetype": "text/x-python",
      "name": "python",
      "nbconvert_exporter": "python",
      "pygments_lexer": "ipython3",
      "version": "3.6.12"
    }
  },
  "nbformat": 4,
  "nbformat_minor": 0
}